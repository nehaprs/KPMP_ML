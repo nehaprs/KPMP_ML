{
 "cells": [
  {
   "cell_type": "markdown",
   "metadata": {},
   "source": [
    "Pre-Processing and model building.\n",
    "Authors: Julie Ng, Neha Sindhu"
   ]
  },
  {
   "cell_type": "code",
   "execution_count": 1,
   "metadata": {
    "colab": {
     "base_uri": "https://localhost:8080/",
     "height": 91
    },
    "executionInfo": {
     "elapsed": 7062,
     "status": "ok",
     "timestamp": 1761163284011,
     "user": {
      "displayName": "Julie Nguyen",
      "userId": "13267589990010623284"
     },
     "user_tz": 240
    },
    "id": "Ua15HJPmgN9Z",
    "outputId": "157baf02-4ea1-4248-aeb6-89881bd7a8e5"
   },
   "outputs": [
    {
     "data": {
      "text/html": [
       "\n",
       "     <input type=\"file\" id=\"files-fd77a362-4fe7-43bd-9768-750ebca8eb80\" name=\"files[]\" multiple disabled\n",
       "        style=\"border:none\" />\n",
       "     <output id=\"result-fd77a362-4fe7-43bd-9768-750ebca8eb80\">\n",
       "      Upload widget is only available when the cell has been executed in the\n",
       "      current browser session. Please rerun this cell to enable.\n",
       "      </output>\n",
       "      <script>// Copyright 2017 Google LLC\n",
       "//\n",
       "// Licensed under the Apache License, Version 2.0 (the \"License\");\n",
       "// you may not use this file except in compliance with the License.\n",
       "// You may obtain a copy of the License at\n",
       "//\n",
       "//      http://www.apache.org/licenses/LICENSE-2.0\n",
       "//\n",
       "// Unless required by applicable law or agreed to in writing, software\n",
       "// distributed under the License is distributed on an \"AS IS\" BASIS,\n",
       "// WITHOUT WARRANTIES OR CONDITIONS OF ANY KIND, either express or implied.\n",
       "// See the License for the specific language governing permissions and\n",
       "// limitations under the License.\n",
       "\n",
       "/**\n",
       " * @fileoverview Helpers for google.colab Python module.\n",
       " */\n",
       "(function(scope) {\n",
       "function span(text, styleAttributes = {}) {\n",
       "  const element = document.createElement('span');\n",
       "  element.textContent = text;\n",
       "  for (const key of Object.keys(styleAttributes)) {\n",
       "    element.style[key] = styleAttributes[key];\n",
       "  }\n",
       "  return element;\n",
       "}\n",
       "\n",
       "// Max number of bytes which will be uploaded at a time.\n",
       "const MAX_PAYLOAD_SIZE = 100 * 1024;\n",
       "\n",
       "function _uploadFiles(inputId, outputId) {\n",
       "  const steps = uploadFilesStep(inputId, outputId);\n",
       "  const outputElement = document.getElementById(outputId);\n",
       "  // Cache steps on the outputElement to make it available for the next call\n",
       "  // to uploadFilesContinue from Python.\n",
       "  outputElement.steps = steps;\n",
       "\n",
       "  return _uploadFilesContinue(outputId);\n",
       "}\n",
       "\n",
       "// This is roughly an async generator (not supported in the browser yet),\n",
       "// where there are multiple asynchronous steps and the Python side is going\n",
       "// to poll for completion of each step.\n",
       "// This uses a Promise to block the python side on completion of each step,\n",
       "// then passes the result of the previous step as the input to the next step.\n",
       "function _uploadFilesContinue(outputId) {\n",
       "  const outputElement = document.getElementById(outputId);\n",
       "  const steps = outputElement.steps;\n",
       "\n",
       "  const next = steps.next(outputElement.lastPromiseValue);\n",
       "  return Promise.resolve(next.value.promise).then((value) => {\n",
       "    // Cache the last promise value to make it available to the next\n",
       "    // step of the generator.\n",
       "    outputElement.lastPromiseValue = value;\n",
       "    return next.value.response;\n",
       "  });\n",
       "}\n",
       "\n",
       "/**\n",
       " * Generator function which is called between each async step of the upload\n",
       " * process.\n",
       " * @param {string} inputId Element ID of the input file picker element.\n",
       " * @param {string} outputId Element ID of the output display.\n",
       " * @return {!Iterable<!Object>} Iterable of next steps.\n",
       " */\n",
       "function* uploadFilesStep(inputId, outputId) {\n",
       "  const inputElement = document.getElementById(inputId);\n",
       "  inputElement.disabled = false;\n",
       "\n",
       "  const outputElement = document.getElementById(outputId);\n",
       "  outputElement.innerHTML = '';\n",
       "\n",
       "  const pickedPromise = new Promise((resolve) => {\n",
       "    inputElement.addEventListener('change', (e) => {\n",
       "      resolve(e.target.files);\n",
       "    });\n",
       "  });\n",
       "\n",
       "  const cancel = document.createElement('button');\n",
       "  inputElement.parentElement.appendChild(cancel);\n",
       "  cancel.textContent = 'Cancel upload';\n",
       "  const cancelPromise = new Promise((resolve) => {\n",
       "    cancel.onclick = () => {\n",
       "      resolve(null);\n",
       "    };\n",
       "  });\n",
       "\n",
       "  // Wait for the user to pick the files.\n",
       "  const files = yield {\n",
       "    promise: Promise.race([pickedPromise, cancelPromise]),\n",
       "    response: {\n",
       "      action: 'starting',\n",
       "    }\n",
       "  };\n",
       "\n",
       "  cancel.remove();\n",
       "\n",
       "  // Disable the input element since further picks are not allowed.\n",
       "  inputElement.disabled = true;\n",
       "\n",
       "  if (!files) {\n",
       "    return {\n",
       "      response: {\n",
       "        action: 'complete',\n",
       "      }\n",
       "    };\n",
       "  }\n",
       "\n",
       "  for (const file of files) {\n",
       "    const li = document.createElement('li');\n",
       "    li.append(span(file.name, {fontWeight: 'bold'}));\n",
       "    li.append(span(\n",
       "        `(${file.type || 'n/a'}) - ${file.size} bytes, ` +\n",
       "        `last modified: ${\n",
       "            file.lastModifiedDate ? file.lastModifiedDate.toLocaleDateString() :\n",
       "                                    'n/a'} - `));\n",
       "    const percent = span('0% done');\n",
       "    li.appendChild(percent);\n",
       "\n",
       "    outputElement.appendChild(li);\n",
       "\n",
       "    const fileDataPromise = new Promise((resolve) => {\n",
       "      const reader = new FileReader();\n",
       "      reader.onload = (e) => {\n",
       "        resolve(e.target.result);\n",
       "      };\n",
       "      reader.readAsArrayBuffer(file);\n",
       "    });\n",
       "    // Wait for the data to be ready.\n",
       "    let fileData = yield {\n",
       "      promise: fileDataPromise,\n",
       "      response: {\n",
       "        action: 'continue',\n",
       "      }\n",
       "    };\n",
       "\n",
       "    // Use a chunked sending to avoid message size limits. See b/62115660.\n",
       "    let position = 0;\n",
       "    do {\n",
       "      const length = Math.min(fileData.byteLength - position, MAX_PAYLOAD_SIZE);\n",
       "      const chunk = new Uint8Array(fileData, position, length);\n",
       "      position += length;\n",
       "\n",
       "      const base64 = btoa(String.fromCharCode.apply(null, chunk));\n",
       "      yield {\n",
       "        response: {\n",
       "          action: 'append',\n",
       "          file: file.name,\n",
       "          data: base64,\n",
       "        },\n",
       "      };\n",
       "\n",
       "      let percentDone = fileData.byteLength === 0 ?\n",
       "          100 :\n",
       "          Math.round((position / fileData.byteLength) * 100);\n",
       "      percent.textContent = `${percentDone}% done`;\n",
       "\n",
       "    } while (position < fileData.byteLength);\n",
       "  }\n",
       "\n",
       "  // All done.\n",
       "  yield {\n",
       "    response: {\n",
       "      action: 'complete',\n",
       "    }\n",
       "  };\n",
       "}\n",
       "\n",
       "scope.google = scope.google || {};\n",
       "scope.google.colab = scope.google.colab || {};\n",
       "scope.google.colab._files = {\n",
       "  _uploadFiles,\n",
       "  _uploadFilesContinue,\n",
       "};\n",
       "})(self);\n",
       "</script> "
      ],
      "text/plain": [
       "<IPython.core.display.HTML object>"
      ]
     },
     "metadata": {},
     "output_type": "display_data"
    },
    {
     "name": "stdout",
     "output_type": "stream",
     "text": [
      "Saving combined_dataframe.xlsx to combined_dataframe.xlsx\n"
     ]
    }
   ],
   "source": [
    "from google.colab import files\n",
    "uploaded = files.upload()"
   ]
  },
  {
   "cell_type": "code",
   "execution_count": 5,
   "metadata": {
    "colab": {
     "base_uri": "https://localhost:8080/",
     "height": 394
    },
    "executionInfo": {
     "elapsed": 4324,
     "status": "ok",
     "timestamp": 1761163290634,
     "user": {
      "displayName": "Julie Nguyen",
      "userId": "13267589990010623284"
     },
     "user_tz": 240
    },
    "id": "VsoX8C2Nk5_k",
    "outputId": "f30f0f4a-ffeb-4a7f-e828-74a9429d8e08"
   },
   "outputs": [
    {
     "name": "stdout",
     "output_type": "stream",
     "text": [
      "(207, 42)\n"
     ]
    },
    {
     "data": {
      "text/html": [
       "<div>\n",
       "<style scoped>\n",
       "    .dataframe tbody tr th:only-of-type {\n",
       "        vertical-align: middle;\n",
       "    }\n",
       "\n",
       "    .dataframe tbody tr th {\n",
       "        vertical-align: top;\n",
       "    }\n",
       "\n",
       "    .dataframe thead th {\n",
       "        text-align: right;\n",
       "    }\n",
       "</style>\n",
       "<table border=\"1\" class=\"dataframe\">\n",
       "  <thead>\n",
       "    <tr style=\"text-align: right;\">\n",
       "      <th></th>\n",
       "      <th>Participant_ID</th>\n",
       "      <th>Sex</th>\n",
       "      <th>Age (Years)</th>\n",
       "      <th>Race</th>\n",
       "      <th>Baseline eGFR (ml/min/1.73m2)</th>\n",
       "      <th>Proteinuria (mg) (Binned)</th>\n",
       "      <th>A1c (%) (Binned)</th>\n",
       "      <th>Albuminuria (mg) (Binned)</th>\n",
       "      <th>Diabetes History</th>\n",
       "      <th>Diabetes Duration (Years)</th>\n",
       "      <th>...</th>\n",
       "      <th>Potassium (mEq/L)</th>\n",
       "      <th>Chloride (mEq/L)</th>\n",
       "      <th>Calcium (mg/dL)</th>\n",
       "      <th>Cystatin C (mg/L)</th>\n",
       "      <th>Urine Creatinine (mg/dL)</th>\n",
       "      <th>Urine Albumin (mg/dL)</th>\n",
       "      <th>Urine Protein (mg/dL)</th>\n",
       "      <th>ACR (mg/g)</th>\n",
       "      <th>PCR (mg/g)</th>\n",
       "      <th>Creatinine_Index_mgkgday</th>\n",
       "    </tr>\n",
       "  </thead>\n",
       "  <tbody>\n",
       "    <tr>\n",
       "      <th>0</th>\n",
       "      <td>27-10039</td>\n",
       "      <td>Female</td>\n",
       "      <td>60-69 Years</td>\n",
       "      <td>White</td>\n",
       "      <td>44.833049</td>\n",
       "      <td>NaN</td>\n",
       "      <td>&gt;=8.5%</td>\n",
       "      <td>500 to &lt;1000 mg/g cr</td>\n",
       "      <td>Yes</td>\n",
       "      <td>30-34 Years</td>\n",
       "      <td>...</td>\n",
       "      <td>4.4</td>\n",
       "      <td>101.0</td>\n",
       "      <td>9.5</td>\n",
       "      <td>2.03522</td>\n",
       "      <td>42.9</td>\n",
       "      <td>19.00</td>\n",
       "      <td>34.0</td>\n",
       "      <td>442.89000</td>\n",
       "      <td>792.540000</td>\n",
       "      <td>11.508197</td>\n",
       "    </tr>\n",
       "    <tr>\n",
       "      <th>1</th>\n",
       "      <td>27-10041</td>\n",
       "      <td>Female</td>\n",
       "      <td>60-69 Years</td>\n",
       "      <td>Asian</td>\n",
       "      <td>60.392502</td>\n",
       "      <td>NaN</td>\n",
       "      <td>&gt;=8.5%</td>\n",
       "      <td>30 to &lt;300 mg/g cr</td>\n",
       "      <td>Yes</td>\n",
       "      <td>25-29 Years</td>\n",
       "      <td>...</td>\n",
       "      <td>4.5</td>\n",
       "      <td>100.0</td>\n",
       "      <td>10.1</td>\n",
       "      <td>1.73246</td>\n",
       "      <td>19.8</td>\n",
       "      <td>1.84</td>\n",
       "      <td>15.0</td>\n",
       "      <td>92.93000</td>\n",
       "      <td>757.580000</td>\n",
       "      <td>8.583318</td>\n",
       "    </tr>\n",
       "    <tr>\n",
       "      <th>2</th>\n",
       "      <td>27-10042</td>\n",
       "      <td>Female</td>\n",
       "      <td>50-59 Years</td>\n",
       "      <td>White</td>\n",
       "      <td>36.830792</td>\n",
       "      <td>NaN</td>\n",
       "      <td>&gt;=8.5%</td>\n",
       "      <td>30 to &lt;300 mg/g cr</td>\n",
       "      <td>Yes</td>\n",
       "      <td>25-29 Years</td>\n",
       "      <td>...</td>\n",
       "      <td>4.2</td>\n",
       "      <td>104.0</td>\n",
       "      <td>9.2</td>\n",
       "      <td>1.66518</td>\n",
       "      <td>36.1</td>\n",
       "      <td>2.54</td>\n",
       "      <td>11.0</td>\n",
       "      <td>70.36000</td>\n",
       "      <td>304.710000</td>\n",
       "      <td>11.990392</td>\n",
       "    </tr>\n",
       "    <tr>\n",
       "      <th>3</th>\n",
       "      <td>27-10043</td>\n",
       "      <td>Female</td>\n",
       "      <td>40-49 Years</td>\n",
       "      <td>White</td>\n",
       "      <td>111.332580</td>\n",
       "      <td>NaN</td>\n",
       "      <td>&gt;=8.5%</td>\n",
       "      <td>&gt;=1000 mg/g cr</td>\n",
       "      <td>Yes</td>\n",
       "      <td>20-24 Years</td>\n",
       "      <td>...</td>\n",
       "      <td>4.4</td>\n",
       "      <td>101.0</td>\n",
       "      <td>10.0</td>\n",
       "      <td>0.91669</td>\n",
       "      <td>45.7</td>\n",
       "      <td>23.74</td>\n",
       "      <td>36.0</td>\n",
       "      <td>519.47000</td>\n",
       "      <td>787.750000</td>\n",
       "      <td>12.381096</td>\n",
       "    </tr>\n",
       "    <tr>\n",
       "      <th>4</th>\n",
       "      <td>27-10047</td>\n",
       "      <td>Male</td>\n",
       "      <td>60-69 Years</td>\n",
       "      <td>White</td>\n",
       "      <td>61.916617</td>\n",
       "      <td>NaN</td>\n",
       "      <td>7.5 to &lt;8.5%</td>\n",
       "      <td>30 to &lt;300 mg/g cr</td>\n",
       "      <td>Yes</td>\n",
       "      <td>55-59 Years</td>\n",
       "      <td>...</td>\n",
       "      <td>5.5</td>\n",
       "      <td>98.0</td>\n",
       "      <td>8.9</td>\n",
       "      <td>1.34000</td>\n",
       "      <td>48.7</td>\n",
       "      <td>21.04</td>\n",
       "      <td>34.0</td>\n",
       "      <td>429.94012</td>\n",
       "      <td>678.642715</td>\n",
       "      <td>8.298779</td>\n",
       "    </tr>\n",
       "  </tbody>\n",
       "</table>\n",
       "<p>5 rows × 42 columns</p>\n",
       "</div>"
      ],
      "text/plain": [
       "  Participant_ID     Sex  Age (Years)   Race  Baseline eGFR (ml/min/1.73m2)  \\\n",
       "0       27-10039  Female  60-69 Years  White                      44.833049   \n",
       "1       27-10041  Female  60-69 Years  Asian                      60.392502   \n",
       "2       27-10042  Female  50-59 Years  White                      36.830792   \n",
       "3       27-10043  Female  40-49 Years  White                     111.332580   \n",
       "4       27-10047    Male  60-69 Years  White                      61.916617   \n",
       "\n",
       "  Proteinuria (mg) (Binned) A1c (%) (Binned) Albuminuria (mg) (Binned)  \\\n",
       "0                       NaN           >=8.5%      500 to <1000 mg/g cr   \n",
       "1                       NaN           >=8.5%        30 to <300 mg/g cr   \n",
       "2                       NaN           >=8.5%        30 to <300 mg/g cr   \n",
       "3                       NaN           >=8.5%            >=1000 mg/g cr   \n",
       "4                       NaN     7.5 to <8.5%        30 to <300 mg/g cr   \n",
       "\n",
       "  Diabetes History Diabetes Duration (Years)  ... Potassium (mEq/L)  \\\n",
       "0              Yes               30-34 Years  ...               4.4   \n",
       "1              Yes               25-29 Years  ...               4.5   \n",
       "2              Yes               25-29 Years  ...               4.2   \n",
       "3              Yes               20-24 Years  ...               4.4   \n",
       "4              Yes               55-59 Years  ...               5.5   \n",
       "\n",
       "  Chloride (mEq/L) Calcium (mg/dL)  Cystatin C (mg/L)  \\\n",
       "0            101.0             9.5            2.03522   \n",
       "1            100.0            10.1            1.73246   \n",
       "2            104.0             9.2            1.66518   \n",
       "3            101.0            10.0            0.91669   \n",
       "4             98.0             8.9            1.34000   \n",
       "\n",
       "   Urine Creatinine (mg/dL)  Urine Albumin (mg/dL)  Urine Protein (mg/dL)  \\\n",
       "0                      42.9                  19.00                   34.0   \n",
       "1                      19.8                   1.84                   15.0   \n",
       "2                      36.1                   2.54                   11.0   \n",
       "3                      45.7                  23.74                   36.0   \n",
       "4                      48.7                  21.04                   34.0   \n",
       "\n",
       "  ACR (mg/g)  PCR (mg/g)  Creatinine_Index_mgkgday  \n",
       "0  442.89000  792.540000                 11.508197  \n",
       "1   92.93000  757.580000                  8.583318  \n",
       "2   70.36000  304.710000                 11.990392  \n",
       "3  519.47000  787.750000                 12.381096  \n",
       "4  429.94012  678.642715                  8.298779  \n",
       "\n",
       "[5 rows x 42 columns]"
      ]
     },
     "execution_count": 5,
     "metadata": {},
     "output_type": "execute_result"
    }
   ],
   "source": [
    "import pandas as pd\n",
    "\n",
    "df = pd.read_excel('~/Documents/BINF/competition/combined_dataframe.xlsx')\n",
    "print(df.shape)\n",
    "df.head()"
   ]
  },
  {
   "cell_type": "code",
   "execution_count": 7,
   "metadata": {
    "executionInfo": {
     "elapsed": 5997,
     "status": "ok",
     "timestamp": 1761163296634,
     "user": {
      "displayName": "Julie Nguyen",
      "userId": "13267589990010623284"
     },
     "user_tz": 240
    },
    "id": "sIVVU7eBlbwz"
   },
   "outputs": [],
   "source": [
    "import numpy as np\n",
    "import pandas as pd\n",
    "import matplotlib.pyplot as plt\n",
    "\n",
    "#for preprocessing & pipelines\n",
    "from sklearn.experimental import enable_iterative_imputer  # needed for IterativeImputer\n",
    "from sklearn.impute import IterativeImputer, SimpleImputer\n",
    "from sklearn.preprocessing import OneHotEncoder, RobustScaler\n",
    "from sklearn.compose import ColumnTransformer\n",
    "from sklearn.pipeline import Pipeline\n",
    "\n",
    "#for unsupervised learning\n",
    "from sklearn.cluster import KMeans\n",
    "\n",
    "#for clustering evaluation metrics\n",
    "from sklearn.metrics import silhouette_score, davies_bouldin_score"
   ]
  },
  {
   "cell_type": "code",
   "execution_count": 9,
   "metadata": {
    "colab": {
     "base_uri": "https://localhost:8080/"
    },
    "executionInfo": {
     "elapsed": 8,
     "status": "ok",
     "timestamp": 1761163296647,
     "user": {
      "displayName": "Julie Nguyen",
      "userId": "13267589990010623284"
     },
     "user_tz": 240
    },
    "id": "V8zxslPAmFcL",
    "outputId": "eb04e04a-48b5-484f-c9fa-91e86c3946a7"
   },
   "outputs": [
    {
     "data": {
      "text/plain": [
       "(207, 41)"
      ]
     },
     "execution_count": 9,
     "metadata": {},
     "output_type": "execute_result"
    }
   ],
   "source": [
    "#make a copy of original df\n",
    "df0 = df.copy()\n",
    "\n",
    "#drop participant id column\n",
    "df0 = df0.drop(columns=[\"Participant_ID\"])\n",
    "\n",
    "df0.shape"
   ]
  },
  {
   "cell_type": "code",
   "execution_count": 16,
   "metadata": {
    "executionInfo": {
     "elapsed": 3,
     "status": "ok",
     "timestamp": 1761163296674,
     "user": {
      "displayName": "Julie Nguyen",
      "userId": "13267589990010623284"
     },
     "user_tz": 240
    },
    "id": "Gizy0Hdq-wcS"
   },
   "outputs": [],
   "source": [
    "#define numeric vs categorical columns\n",
    "num_col = [\"Baseline eGFR (ml/min/1.73m2)\",\n",
    "           \"eGFRCr\",\n",
    "           \"eGFRCys\",\n",
    "           \"eGFRCrCys\",\n",
    "           \"Albumin (g/dL)\",\n",
    "           \"Alkaline phosphatase (U/L)\",\n",
    "           \"Alanine aminotransferase (U/L)\",\n",
    "           \"Aspartate aminotransferase (U/L)\",\n",
    "           \"Carbon dioxide (mEq/L)\",\n",
    "           \"Total bilirubin (mg/dL)\",\n",
    "           \"Direct bilirubin (mg/dL)\",\n",
    "           \"Blood urea nitrogen (mg/dL)\",\n",
    "           \"Creatinine (mg/dL)\",\n",
    "           \"Glucose (mg/dL)\",\n",
    "           \"Phosphate (mg/dL)\",\n",
    "           \"C-reactive protein (high sensitivity) (mg/L)\",\n",
    "           \"Magnesium (mg/dL)\",\n",
    "           \"Total protein (g/dL)\",\n",
    "           \"Uric acid (mg/dL)\",\n",
    "           \"Sodium (mEq/L)\",\n",
    "           \"Potassium (mEq/L)\",\n",
    "           \"Chloride (mEq/L)\",\n",
    "           \"Calcium (mg/dL)\",\n",
    "           \"Cystatin C (mg/L)\",\n",
    "           \"Urine Creatinine (mg/dL)\",\n",
    "           \"Urine Albumin (mg/dL)\",\n",
    "           \"Urine Protein (mg/dL)\",\n",
    "           \"ACR (mg/g)\",\n",
    "           \"PCR (mg/g)\",\n",
    "           \"Creatinine_Index_mgkgday\"]\n",
    "\n",
    "cat_col = [\"Sex\",\n",
    "           \"Age (Years)\",\n",
    "           \"Race\",\n",
    "           \"Proteinuria (mg) (Binned)\",\n",
    "           \"A1c (%) (Binned)\",\n",
    "           \"Albuminuria (mg) (Binned)\",\n",
    "           \"Diabetes History\",\n",
    "           \"Diabetes Duration (Years)\",\n",
    "           \"Hypertension History\",\n",
    "           \"Hypertension Duration (Years)\",\n",
    "           \"On RAAS Blockade\"]"
   ]
  },
  {
   "cell_type": "code",
   "execution_count": 17,
   "metadata": {
    "colab": {
     "base_uri": "https://localhost:8080/"
    },
    "executionInfo": {
     "elapsed": 17,
     "status": "ok",
     "timestamp": 1761163296694,
     "user": {
      "displayName": "Julie Nguyen",
      "userId": "13267589990010623284"
     },
     "user_tz": 240
    },
    "id": "FcFzd_NS3j7r",
    "outputId": "5e8dc1a1-6d0b-49ce-d95f-aab04d35f34d"
   },
   "outputs": [
    {
     "name": "stdout",
     "output_type": "stream",
     "text": [
      "Numeric columns: 30\n",
      "Categorical columns: 11\n"
     ]
    }
   ],
   "source": [
    "#check total column number should be 41\n",
    "print(f\"Numeric columns: {len(num_col)}\")\n",
    "print(f\"Categorical columns: {len(cat_col)}\")"
   ]
  },
  {
   "cell_type": "code",
   "execution_count": 18,
   "metadata": {
    "executionInfo": {
     "elapsed": 298,
     "status": "ok",
     "timestamp": 1761163298100,
     "user": {
      "displayName": "Julie Nguyen",
      "userId": "13267589990010623284"
     },
     "user_tz": 240
    },
    "id": "Nb28V8dNuSSE"
   },
   "outputs": [],
   "source": [
    "#get rid of placeholders in numeric columns\n",
    "placeholders = [\"QNS\", \"Invalid\"]\n",
    "df0[num_col] = df0[num_col].replace(placeholders, np.nan)\n",
    "\n",
    "#convert categorical columns to strings (prevents downstream errors)\n",
    "for col in cat_col:\n",
    "    df0[col] = df0[col].astype(str)"
   ]
  },
  {
   "cell_type": "markdown",
   "metadata": {
    "id": "I7FxgYqFpHhg"
   },
   "source": [
    "**Create preprocessing pipeline using sklearn for:**\n",
    "*   Imputation (filling in missing values)\n",
    "*   Encoding (converting categorical features to numeric for ML)\n",
    "*   Scaling (standardize all features)\n",
    "\n",
    "\n",
    "\n",
    "\n"
   ]
  },
  {
   "cell_type": "code",
   "execution_count": 19,
   "metadata": {
    "executionInfo": {
     "elapsed": 17,
     "status": "ok",
     "timestamp": 1761163299898,
     "user": {
      "displayName": "Julie Nguyen",
      "userId": "13267589990010623284"
     },
     "user_tz": 240
    },
    "id": "vwNtIE2On9f_"
   },
   "outputs": [],
   "source": [
    "numeric_pipe = Pipeline(steps=[(\"impute\", IterativeImputer(random_state=42, sample_posterior=True)),(\"scale\", RobustScaler())])\n",
    "\n",
    "categorical_pipe = Pipeline(steps=[(\"impute\", SimpleImputer(strategy=\"most_frequent\")),(\"onehot\", OneHotEncoder(handle_unknown=\"ignore\", sparse_output=False))])\n",
    "\n",
    "pre = ColumnTransformer(transformers=[(\"num\", numeric_pipe, num_col),(\"cat\", categorical_pipe, cat_col),],remainder=\"drop\")"
   ]
  },
  {
   "cell_type": "markdown",
   "metadata": {
    "id": "4oYhrIf1s6Sd"
   },
   "source": [
    "**Run preprocessing pipeline:**"
   ]
  },
  {
   "cell_type": "code",
   "execution_count": 20,
   "metadata": {
    "colab": {
     "base_uri": "https://localhost:8080/"
    },
    "executionInfo": {
     "elapsed": 1463,
     "status": "ok",
     "timestamp": 1761163304139,
     "user": {
      "displayName": "Julie Nguyen",
      "userId": "13267589990010623284"
     },
     "user_tz": 240
    },
    "id": "qqE68JIc88Gy",
    "outputId": "159b0d7a-2709-4c4c-d02d-08d7265eebbf"
   },
   "outputs": [
    {
     "data": {
      "text/plain": [
       "(207, 96)"
      ]
     },
     "execution_count": 20,
     "metadata": {},
     "output_type": "execute_result"
    }
   ],
   "source": [
    "clean_data = pre.fit_transform(df0)\n",
    "clean_data.shape"
   ]
  },
  {
   "cell_type": "code",
   "execution_count": 21,
   "metadata": {
    "colab": {
     "base_uri": "https://localhost:8080/"
    },
    "executionInfo": {
     "elapsed": 9,
     "status": "ok",
     "timestamp": 1761163304961,
     "user": {
      "displayName": "Julie Nguyen",
      "userId": "13267589990010623284"
     },
     "user_tz": 240
    },
    "id": "BOExipqhDb7t",
    "outputId": "f5f2c66b-4b7c-48ab-d8e0-8304ba0bf9c4"
   },
   "outputs": [
    {
     "name": "stdout",
     "output_type": "stream",
     "text": [
      "Total transformed features: 96\n",
      "num features: 30\n",
      "cat features: 66\n"
     ]
    }
   ],
   "source": [
    "#get all column names after transformation\n",
    "feature_names = pre.get_feature_names_out()\n",
    "print(\"Total transformed features:\", len(feature_names))\n",
    "#print(\"Feature names:\", feature_names)\n",
    "print(\"num features:\", sum(name.startswith(\"num__\") for name in feature_names))\n",
    "print(\"cat features:\", sum(name.startswith(\"cat__\") for name in feature_names))"
   ]
  },
  {
   "cell_type": "markdown",
   "metadata": {
    "id": "hr5dQV6SJfGu"
   },
   "source": [
    "**k-means clustering (unsupervised ML):**"
   ]
  },
  {
   "cell_type": "code",
   "execution_count": 22,
   "metadata": {
    "colab": {
     "base_uri": "https://localhost:8080/",
     "height": 1000
    },
    "executionInfo": {
     "elapsed": 606,
     "status": "ok",
     "timestamp": 1761163324387,
     "user": {
      "displayName": "Julie Nguyen",
      "userId": "13267589990010623284"
     },
     "user_tz": 240
    },
    "id": "VGKgFfmiJlCK",
    "outputId": "37354dec-c7b5-489f-b909-3fb830a38dcd"
   },
   "outputs": [
    {
     "data": {
      "text/html": [
       "<div>\n",
       "<style scoped>\n",
       "    .dataframe tbody tr th:only-of-type {\n",
       "        vertical-align: middle;\n",
       "    }\n",
       "\n",
       "    .dataframe tbody tr th {\n",
       "        vertical-align: top;\n",
       "    }\n",
       "\n",
       "    .dataframe thead th {\n",
       "        text-align: right;\n",
       "    }\n",
       "</style>\n",
       "<table border=\"1\" class=\"dataframe\">\n",
       "  <thead>\n",
       "    <tr style=\"text-align: right;\">\n",
       "      <th></th>\n",
       "      <th>k</th>\n",
       "      <th>silhouette</th>\n",
       "      <th>davies_bouldin</th>\n",
       "    </tr>\n",
       "  </thead>\n",
       "  <tbody>\n",
       "    <tr>\n",
       "      <th>0</th>\n",
       "      <td>2</td>\n",
       "      <td>0.993065</td>\n",
       "      <td>0.001451</td>\n",
       "    </tr>\n",
       "    <tr>\n",
       "      <th>1</th>\n",
       "      <td>3</td>\n",
       "      <td>0.486965</td>\n",
       "      <td>0.671888</td>\n",
       "    </tr>\n",
       "    <tr>\n",
       "      <th>2</th>\n",
       "      <td>4</td>\n",
       "      <td>0.297600</td>\n",
       "      <td>1.376759</td>\n",
       "    </tr>\n",
       "    <tr>\n",
       "      <th>5</th>\n",
       "      <td>7</td>\n",
       "      <td>0.089016</td>\n",
       "      <td>1.472013</td>\n",
       "    </tr>\n",
       "    <tr>\n",
       "      <th>3</th>\n",
       "      <td>5</td>\n",
       "      <td>0.081015</td>\n",
       "      <td>1.760038</td>\n",
       "    </tr>\n",
       "    <tr>\n",
       "      <th>4</th>\n",
       "      <td>6</td>\n",
       "      <td>0.077278</td>\n",
       "      <td>1.685561</td>\n",
       "    </tr>\n",
       "    <tr>\n",
       "      <th>6</th>\n",
       "      <td>8</td>\n",
       "      <td>0.076442</td>\n",
       "      <td>1.643745</td>\n",
       "    </tr>\n",
       "    <tr>\n",
       "      <th>7</th>\n",
       "      <td>9</td>\n",
       "      <td>0.049882</td>\n",
       "      <td>1.817546</td>\n",
       "    </tr>\n",
       "    <tr>\n",
       "      <th>8</th>\n",
       "      <td>10</td>\n",
       "      <td>0.044376</td>\n",
       "      <td>1.834662</td>\n",
       "    </tr>\n",
       "  </tbody>\n",
       "</table>\n",
       "</div>"
      ],
      "text/plain": [
       "    k  silhouette  davies_bouldin\n",
       "0   2    0.993065        0.001451\n",
       "1   3    0.486965        0.671888\n",
       "2   4    0.297600        1.376759\n",
       "5   7    0.089016        1.472013\n",
       "3   5    0.081015        1.760038\n",
       "4   6    0.077278        1.685561\n",
       "6   8    0.076442        1.643745\n",
       "7   9    0.049882        1.817546\n",
       "8  10    0.044376        1.834662"
      ]
     },
     "metadata": {},
     "output_type": "display_data"
    },
    {
     "data": {
      "image/png": "[encoded data removed]",
      "text/plain": [
       "<Figure size 640x480 with 1 Axes>"
      ]
     },
     "metadata": {},
     "output_type": "display_data"
    },
    {
     "data": {
      "image/png": "[encoded data removed]",
      "text/plain": [
       "<Figure size 640x480 with 1 Axes>"
      ]
     },
     "metadata": {},
     "output_type": "display_data"
    }
   ],
   "source": [
    "#test different number of k clusters\n",
    "results = []\n",
    "for k in range(2, 11):\n",
    "  km = KMeans(n_clusters=k, random_state=42)\n",
    "  labels = km.fit_predict(clean_data)\n",
    "  sil = silhouette_score(clean_data, labels)\n",
    "  db  = davies_bouldin_score(clean_data, labels)\n",
    "  results.append((k, sil, db))\n",
    "\n",
    "results_df = pd.DataFrame(results, columns=[\"k\",\"silhouette\",\"davies_bouldin\"])\n",
    "display(results_df.sort_values(\"silhouette\", ascending=False))\n",
    "\n",
    "plt.figure(); plt.plot(results_df.k, results_df.silhouette, marker=\"o\"); plt.xlabel(\"k\"); plt.ylabel(\"silhouette\"); plt.show()\n",
    "plt.figure(); plt.plot(results_df.k, results_df.davies_bouldin, marker=\"o\"); plt.xlabel(\"k\"); plt.ylabel(\"Davies–Bouldin\"); plt.show()"
   ]
  },
  {
   "cell_type": "markdown",
   "metadata": {
    "id": "UNYgiCwrMjX6"
   },
   "source": [
    "Clustering performance evaluated with silhouette score and Davies-Bouldin Index (DBI). Silhouette score tells us how clearly the clusters are separated (higher score means the groups are well-defined and different from each other). DBI tells us how similar the clusters are to each other (lower score means points within a cluster are similar to each other and that each cluster is clearly separated from each other).\n",
    "\n",
    "Both evaluation metrics show two clusters (k=2) fit the data the best, indicating participants fall into two main CKD subgroups based on their clinical and biomarker patterns.\n",
    "\n",
    "BUTTTTTTTT..."
   ]
  },
  {
   "cell_type": "code",
   "execution_count": 23,
   "metadata": {
    "colab": {
     "base_uri": "https://localhost:8080/"
    },
    "executionInfo": {
     "elapsed": 17,
     "status": "ok",
     "timestamp": 1761163327464,
     "user": {
      "displayName": "Julie Nguyen",
      "userId": "13267589990010623284"
     },
     "user_tz": 240
    },
    "id": "8NfJhKJNQbux",
    "outputId": "c409e5d3-ac7f-4659-8248-b7f3c27fd182"
   },
   "outputs": [
    {
     "name": "stdout",
     "output_type": "stream",
     "text": [
      "Cluster\n",
      "0    206\n",
      "1      1\n",
      "Name: count, dtype: int64\n"
     ]
    }
   ],
   "source": [
    "best_k = 2\n",
    "final_kmeans = KMeans(n_clusters=best_k, random_state=42)\n",
    "cluster_labels = final_kmeans.fit_predict(clean_data)\n",
    "\n",
    "df_clusters = df0.copy()\n",
    "df_clusters[\"Cluster\"] = cluster_labels\n",
    "print(df_clusters[\"Cluster\"].value_counts().sort_index())\n"
   ]
  },
  {
   "cell_type": "markdown",
   "metadata": {
    "id": "yI7LjWTncJXw"
   },
   "source": [
    "This is telling us there are 206 participants in one cluster and 1 in the the other....doesn't make sense. Could this be an outlier?"
   ]
  },
  {
   "cell_type": "markdown",
   "metadata": {
    "id": "nXez9GssYcyN"
   },
   "source": [
    "Analysis redone for potential outlier?:"
   ]
  },
  {
   "cell_type": "code",
   "execution_count": 24,
   "metadata": {
    "colab": {
     "base_uri": "https://localhost:8080/",
     "height": 1000
    },
    "executionInfo": {
     "elapsed": 2998,
     "status": "ok",
     "timestamp": 1761163374443,
     "user": {
      "displayName": "Julie Nguyen",
      "userId": "13267589990010623284"
     },
     "user_tz": 240
    },
    "id": "iS-11oKRcoQY",
    "outputId": "2f7ed6b5-ae19-4372-9a39-19b45a291303"
   },
   "outputs": [
    {
     "data": {
      "text/html": [
       "<div>\n",
       "<style scoped>\n",
       "    .dataframe tbody tr th:only-of-type {\n",
       "        vertical-align: middle;\n",
       "    }\n",
       "\n",
       "    .dataframe tbody tr th {\n",
       "        vertical-align: top;\n",
       "    }\n",
       "\n",
       "    .dataframe thead th {\n",
       "        text-align: right;\n",
       "    }\n",
       "</style>\n",
       "<table border=\"1\" class=\"dataframe\">\n",
       "  <thead>\n",
       "    <tr style=\"text-align: right;\">\n",
       "      <th></th>\n",
       "      <th>Sex</th>\n",
       "      <th>Age (Years)</th>\n",
       "      <th>Race</th>\n",
       "      <th>Baseline eGFR (ml/min/1.73m2)</th>\n",
       "      <th>Proteinuria (mg) (Binned)</th>\n",
       "      <th>A1c (%) (Binned)</th>\n",
       "      <th>Albuminuria (mg) (Binned)</th>\n",
       "      <th>Diabetes History</th>\n",
       "      <th>Diabetes Duration (Years)</th>\n",
       "      <th>Hypertension History</th>\n",
       "      <th>...</th>\n",
       "      <th>Potassium (mEq/L)</th>\n",
       "      <th>Chloride (mEq/L)</th>\n",
       "      <th>Calcium (mg/dL)</th>\n",
       "      <th>Cystatin C (mg/L)</th>\n",
       "      <th>Urine Creatinine (mg/dL)</th>\n",
       "      <th>Urine Albumin (mg/dL)</th>\n",
       "      <th>Urine Protein (mg/dL)</th>\n",
       "      <th>ACR (mg/g)</th>\n",
       "      <th>PCR (mg/g)</th>\n",
       "      <th>Creatinine_Index_mgkgday</th>\n",
       "    </tr>\n",
       "  </thead>\n",
       "  <tbody>\n",
       "    <tr>\n",
       "      <th>206</th>\n",
       "      <td>Male</td>\n",
       "      <td>60-69 Years</td>\n",
       "      <td>Black or African-American</td>\n",
       "      <td>30.46343</td>\n",
       "      <td>&gt;=1000 mg/g cr</td>\n",
       "      <td>&gt;=8.5%</td>\n",
       "      <td>&gt;=1000 mg/g cr</td>\n",
       "      <td>Yes</td>\n",
       "      <td>20-24 Years</td>\n",
       "      <td>Yes</td>\n",
       "      <td>...</td>\n",
       "      <td>NaN</td>\n",
       "      <td>104.0</td>\n",
       "      <td>8.4</td>\n",
       "      <td>2.01</td>\n",
       "      <td>0.1</td>\n",
       "      <td>176.64</td>\n",
       "      <td>331.0</td>\n",
       "      <td>1808000.0</td>\n",
       "      <td>3310000.0</td>\n",
       "      <td>NaN</td>\n",
       "    </tr>\n",
       "  </tbody>\n",
       "</table>\n",
       "<p>1 rows × 41 columns</p>\n",
       "</div>"
      ],
      "text/plain": [
       "      Sex  Age (Years)                       Race  \\\n",
       "206  Male  60-69 Years  Black or African-American   \n",
       "\n",
       "     Baseline eGFR (ml/min/1.73m2) Proteinuria (mg) (Binned) A1c (%) (Binned)  \\\n",
       "206                       30.46343            >=1000 mg/g cr           >=8.5%   \n",
       "\n",
       "    Albuminuria (mg) (Binned) Diabetes History Diabetes Duration (Years)  \\\n",
       "206            >=1000 mg/g cr              Yes               20-24 Years   \n",
       "\n",
       "    Hypertension History  ... Potassium (mEq/L) Chloride (mEq/L)  \\\n",
       "206                  Yes  ...               NaN            104.0   \n",
       "\n",
       "     Calcium (mg/dL)  Cystatin C (mg/L)  Urine Creatinine (mg/dL)  \\\n",
       "206              8.4               2.01                       0.1   \n",
       "\n",
       "     Urine Albumin (mg/dL) Urine Protein (mg/dL) ACR (mg/g)  PCR (mg/g)  \\\n",
       "206                 176.64                 331.0  1808000.0   3310000.0   \n",
       "\n",
       "     Creatinine_Index_mgkgday  \n",
       "206                       NaN  \n",
       "\n",
       "[1 rows x 41 columns]"
      ]
     },
     "metadata": {},
     "output_type": "display_data"
    },
    {
     "name": "stdout",
     "output_type": "stream",
     "text": [
      "Removed 1 outlier participant(s). Remaining: 206\n"
     ]
    },
    {
     "data": {
      "text/html": [
       "<div>\n",
       "<style scoped>\n",
       "    .dataframe tbody tr th:only-of-type {\n",
       "        vertical-align: middle;\n",
       "    }\n",
       "\n",
       "    .dataframe tbody tr th {\n",
       "        vertical-align: top;\n",
       "    }\n",
       "\n",
       "    .dataframe thead th {\n",
       "        text-align: right;\n",
       "    }\n",
       "</style>\n",
       "<table border=\"1\" class=\"dataframe\">\n",
       "  <thead>\n",
       "    <tr style=\"text-align: right;\">\n",
       "      <th></th>\n",
       "      <th>k</th>\n",
       "      <th>silhouette</th>\n",
       "      <th>davies_bouldin</th>\n",
       "    </tr>\n",
       "  </thead>\n",
       "  <tbody>\n",
       "    <tr>\n",
       "      <th>0</th>\n",
       "      <td>2</td>\n",
       "      <td>0.484004</td>\n",
       "      <td>0.978888</td>\n",
       "    </tr>\n",
       "    <tr>\n",
       "      <th>1</th>\n",
       "      <td>3</td>\n",
       "      <td>0.454017</td>\n",
       "      <td>1.170696</td>\n",
       "    </tr>\n",
       "    <tr>\n",
       "      <th>2</th>\n",
       "      <td>4</td>\n",
       "      <td>0.263501</td>\n",
       "      <td>1.298091</td>\n",
       "    </tr>\n",
       "    <tr>\n",
       "      <th>4</th>\n",
       "      <td>6</td>\n",
       "      <td>0.101053</td>\n",
       "      <td>1.645875</td>\n",
       "    </tr>\n",
       "    <tr>\n",
       "      <th>3</th>\n",
       "      <td>5</td>\n",
       "      <td>0.098198</td>\n",
       "      <td>1.862272</td>\n",
       "    </tr>\n",
       "    <tr>\n",
       "      <th>5</th>\n",
       "      <td>7</td>\n",
       "      <td>0.088397</td>\n",
       "      <td>1.711581</td>\n",
       "    </tr>\n",
       "    <tr>\n",
       "      <th>6</th>\n",
       "      <td>8</td>\n",
       "      <td>0.086324</td>\n",
       "      <td>1.697640</td>\n",
       "    </tr>\n",
       "    <tr>\n",
       "      <th>8</th>\n",
       "      <td>10</td>\n",
       "      <td>0.086127</td>\n",
       "      <td>1.588245</td>\n",
       "    </tr>\n",
       "    <tr>\n",
       "      <th>7</th>\n",
       "      <td>9</td>\n",
       "      <td>0.069968</td>\n",
       "      <td>1.821242</td>\n",
       "    </tr>\n",
       "  </tbody>\n",
       "</table>\n",
       "</div>"
      ],
      "text/plain": [
       "    k  silhouette  davies_bouldin\n",
       "0   2    0.484004        0.978888\n",
       "1   3    0.454017        1.170696\n",
       "2   4    0.263501        1.298091\n",
       "4   6    0.101053        1.645875\n",
       "3   5    0.098198        1.862272\n",
       "5   7    0.088397        1.711581\n",
       "6   8    0.086324        1.697640\n",
       "8  10    0.086127        1.588245\n",
       "7   9    0.069968        1.821242"
      ]
     },
     "metadata": {},
     "output_type": "display_data"
    },
    {
     "data": {
      "image/png": "[encoded data removed]",
      "text/plain": [
       "<Figure size 640x480 with 1 Axes>"
      ]
     },
     "metadata": {},
     "output_type": "display_data"
    },
    {
     "data": {
      "image/png": "[encoded data removed]",
      "text/plain": [
       "<Figure size 640x480 with 1 Axes>"
      ]
     },
     "metadata": {},
     "output_type": "display_data"
    },
    {
     "name": "stdout",
     "output_type": "stream",
     "text": [
      "New cluster sizes:\n",
      " Cluster\n",
      "0    192\n",
      "1     14\n",
      "Name: count, dtype: int64\n"
     ]
    }
   ],
   "source": [
    "#check for outlier participant\n",
    "outlier_row = df0.loc[df_clusters[\"Cluster\"] == 1]\n",
    "display(outlier_row)\n",
    "\n",
    "#remove participant\n",
    "df_cleaned = df0.loc[df_clusters[\"Cluster\"] != 1].copy()\n",
    "print(f\"Removed {len(outlier_row)} outlier participant(s). Remaining: {len(df_cleaned)}\")\n",
    "\n",
    "#redo preprocessing\n",
    "clean_data2 = pre.fit_transform(df_cleaned)\n",
    "\n",
    "#redo k means clustering\n",
    "results = []\n",
    "for k in range(2, 11):\n",
    "  km = KMeans(n_clusters=k, n_init=30, random_state=42)\n",
    "  labels = km.fit_predict(clean_data2)\n",
    "  sil = silhouette_score(clean_data2, labels)\n",
    "  db  = davies_bouldin_score(clean_data2, labels)\n",
    "  results.append((k, sil, db))\n",
    "\n",
    "results_df2 = pd.DataFrame(results, columns=[\"k\",\"silhouette\",\"davies_bouldin\"])\n",
    "display(results_df2.sort_values(\"silhouette\", ascending=False))\n",
    "\n",
    "plt.figure()\n",
    "plt.plot(results_df2.k, results_df2.silhouette, marker=\"o\")\n",
    "plt.xlabel(\"k\"); plt.ylabel(\"Silhouette\"); plt.title(\"Silhouette Score\")\n",
    "plt.show()\n",
    "\n",
    "plt.figure()\n",
    "plt.plot(results_df2.k, results_df2.davies_bouldin, marker=\"o\")\n",
    "plt.xlabel(\"k\"); plt.ylabel(\"Davies–Bouldin\"); plt.title(\"DB Index\")\n",
    "plt.show()\n",
    "\n",
    "#fit final model with new best k and check cluster sizes\n",
    "best_k2 = int(results_df2.sort_values(\"silhouette\", ascending=False).iloc[0][\"k\"])\n",
    "final_kmeans2 = KMeans(n_clusters=best_k2, n_init=30, random_state=42)\n",
    "labels2 = final_kmeans2.fit_predict(clean_data2)\n",
    "\n",
    "df_clusters2 = df_cleaned.copy()\n",
    "df_clusters2[\"Cluster\"] = labels2\n",
    "print(\"New cluster sizes:\\n\", df_clusters2[\"Cluster\"].value_counts().sort_index())"
   ]
  },
  {
   "cell_type": "markdown",
   "metadata": {
    "id": "euOQzvbGdpWT"
   },
   "source": [
    "Two cluster. One cluster has 192 and the other has 14 participants. Is this real data or due to other factors like biopsy collection, etc...."
   ]
  },
  {
   "cell_type": "markdown",
   "metadata": {},
   "source": [
    "df_cluster2 : data we are working with now. Visualize the clusters"
   ]
  },
  {
   "cell_type": "code",
   "execution_count": 32,
   "metadata": {},
   "outputs": [
    {
     "data": {
      "image/png": "[encoded data removed]",
      "text/plain": [
       "<Figure size 600x500 with 1 Axes>"
      ]
     },
     "metadata": {},
     "output_type": "display_data"
    }
   ],
   "source": [
    "import matplotlib.pyplot as plt\n",
    "from sklearn.decomposition import PCA\n",
    "from sklearn.preprocessing import StandardScaler\n",
    "from sklearn.impute import SimpleImputer\n",
    "from sklearn.pipeline import make_pipeline\n",
    "\n",
    "# --- prepare data ---\n",
    "df = df_clusters2.copy()\n",
    "labels = df['Cluster'].astype(str)\n",
    "X = df.drop(columns=['Cluster'], errors='ignore').select_dtypes(include=[np.number])\n",
    "X = X.replace([np.inf, -np.inf], np.nan)  # guard against infinities\n",
    "\n",
    "# --- pipeline: impute → scale → PCA(2) ---\n",
    "pipe = make_pipeline(\n",
    "    SimpleImputer(strategy='median'),\n",
    "    StandardScaler(),\n",
    "    PCA(n_components=2, random_state=42)\n",
    ")\n",
    "Z = pipe.fit_transform(X)  # shape (n_samples, 2)\n",
    "\n",
    "# --- plot ---\n",
    "plt.figure(figsize=(6,5))\n",
    "for lab in sorted(labels.unique()):\n",
    "    idx = labels == lab\n",
    "    plt.scatter(Z[idx, 0], Z[idx, 1], s=25, label=f\"Cluster {lab}\", alpha=0.8)\n",
    "\n",
    "# centroids in PCA space\n",
    "centroids = np.vstack([Z[labels == lab].mean(axis=0) for lab in sorted(labels.unique())])\n",
    "plt.scatter(centroids[:,0], centroids[:,1], marker='X', s=200, edgecolors='k', linewidths=1.5, label='Centroids')\n",
    "\n",
    "plt.xlabel('PC1'); plt.ylabel('PC2'); plt.title('K-means clusters (k=2) in PCA space')\n",
    "plt.legend(); plt.tight_layout(); plt.show()\n"
   ]
  },
  {
   "cell_type": "code",
   "execution_count": 36,
   "metadata": {},
   "outputs": [
    {
     "name": "stdout",
     "output_type": "stream",
     "text": [
      "Explained variance ratio (PC1, PC2, PC3): [0.29922119 0.20116016 0.09191993]\n",
      "Cumulative (3 PCs): 0.5923012752348445\n"
     ]
    },
    {
     "data": {
      "image/png": "[encoded data removed]",
      "text/plain": [
       "<Figure size 700x600 with 1 Axes>"
      ]
     },
     "metadata": {},
     "output_type": "display_data"
    }
   ],
   "source": [
    "#3D PCA\n",
    "import matplotlib.pyplot as plt\n",
    "from sklearn.impute import SimpleImputer\n",
    "from sklearn.preprocessing import StandardScaler\n",
    "from sklearn.decomposition import PCA\n",
    "from sklearn.pipeline import make_pipeline\n",
    "from mpl_toolkits.mplot3d import Axes3D  # noqa: F401\n",
    "\n",
    "# --- data prep ---\n",
    "df = df_clusters2.copy()\n",
    "labels = df['Cluster'].astype(str)\n",
    "X = df.drop(columns=['Cluster'], errors='ignore')\n",
    "X = X.select_dtypes(include=[np.number]).replace([np.inf, -np.inf], np.nan)\n",
    "\n",
    "# --- pipeline: impute → scale → PCA(3) ---\n",
    "pipe = make_pipeline(\n",
    "    SimpleImputer(strategy='median'),\n",
    "    StandardScaler(),\n",
    "    PCA(n_components=3, random_state=42)\n",
    ")\n",
    "Z = pipe.fit_transform(X)  # (n_samples, 3)\n",
    "pca = pipe.named_steps['pca']\n",
    "print(\"Explained variance ratio (PC1, PC2, PC3):\", pca.explained_variance_ratio_)\n",
    "print(\"Cumulative (3 PCs):\", pca.explained_variance_ratio_.sum())\n",
    "\n",
    "# --- 3D scatter by cluster ---\n",
    "fig = plt.figure(figsize=(7,6))\n",
    "ax = fig.add_subplot(111, projection='3d')\n",
    "\n",
    "for lab in sorted(labels.unique()):\n",
    "    idx = labels == lab\n",
    "    ax.scatter(Z[idx, 0], Z[idx, 1], Z[idx, 2], s=25, alpha=0.85, label=f\"Cluster {lab}\")\n",
    "\n",
    "# centroids in 3D PCA space\n",
    "centroids = np.vstack([Z[labels == lab].mean(axis=0) for lab in sorted(labels.unique())])\n",
    "ax.scatter(centroids[:,0], centroids[:,1], centroids[:,2],\n",
    "           marker='X', s=220, edgecolors='k', linewidths=1.2, label='Centroids')\n",
    "\n",
    "ax.set_xlabel('PC1'); ax.set_ylabel('PC2'); ax.set_zlabel('PC3')\n",
    "ax.set_title('K-means clusters (k=2) in 3D PCA space')\n",
    "ax.view_init(elev=20, azim=35)  # adjust view if needed\n",
    "ax.legend()\n",
    "plt.tight_layout()\n",
    "plt.show()"
   ]
  },
  {
   "cell_type": "code",
   "execution_count": 37,
   "metadata": {},
   "outputs": [
    {
     "name": "stdout",
     "output_type": "stream",
     "text": [
      "                    feature       p_value  -log10(p)\n",
      "16    Urine Albumin (mg/dL)  3.111404e-07   6.507044\n",
      "17    Urine Protein (mg/dL)  1.252591e-06   5.902191\n",
      "18               ACR (mg/g)  2.610724e-06   5.583239\n",
      "19               PCR (mg/g)  7.744498e-06   5.111007\n",
      "4            Albumin (g/dL)  1.259951e-05   4.899647\n",
      "13          Calcium (mg/dL)  2.854998e-05   4.544394\n",
      "7   Total bilirubin (mg/dL)  5.024373e-05   4.298918\n",
      "2                   eGFRCys  1.202015e-02   1.920090\n",
      "14        Cystatin C (mg/L)  4.399247e-02   1.356622\n",
      "3                 eGFRCrCys  1.080827e-01   0.966244\n"
     ]
    }
   ],
   "source": [
    "#feature importance: t-test between the 2 clusters will test whether each feature differs significantly between clusters.\n",
    "\n",
    "from scipy.stats import ttest_ind\n",
    "\n",
    "features = df.drop(columns=['Cluster'], errors='ignore').select_dtypes(include=[np.number])\n",
    "group1 = features[df['Cluster'] == 0]\n",
    "group2 = features[df['Cluster'] == 1]\n",
    "\n",
    "pvals = []\n",
    "for col in features.columns:\n",
    "    g1 = group1[col].dropna()\n",
    "    g2 = group2[col].dropna()\n",
    "    stat, p = ttest_ind(g1, g2, equal_var=False)\n",
    "    pvals.append(p)\n",
    "\n",
    "results = pd.DataFrame({'feature': features.columns, 'p_value': pvals})\n",
    "results['-log10(p)'] = -np.log10(results['p_value'])\n",
    "print(results.sort_values('p_value').head(10))"
   ]
  },
  {
   "cell_type": "code",
   "execution_count": null,
   "metadata": {},
   "outputs": [
    {
     "name": "stdout",
     "output_type": "stream",
     "text": [
      "                    feature  Cluster0_mean  Cluster1_mean       p_value  \\\n",
      "16    Urine Albumin (mg/dL)      22.026702     261.381429  3.111404e-07   \n",
      "17    Urine Protein (mg/dL)      38.434555     403.142857  1.252591e-06   \n",
      "18               ACR (mg/g)     390.179166    4973.169342  2.610724e-06   \n",
      "19               PCR (mg/g)     655.811816    7669.824562  7.744498e-06   \n",
      "4            Albumin (g/dL)       4.231571       3.335714  1.259951e-05   \n",
      "13          Calcium (mg/dL)       9.519105       8.685714  2.854998e-05   \n",
      "7   Total bilirubin (mg/dL)       0.471204       0.307143  5.024373e-05   \n",
      "2                   eGFRCys      47.797885      36.599747  1.202015e-02   \n",
      "14        Cystatin C (mg/L)       1.564069       1.925380  4.399247e-02   \n",
      "3                 eGFRCrCys      51.369307      42.617317  1.080827e-01   \n",
      "\n",
      "    -log10(p)  Higher_in  \n",
      "16   6.507044  Cluster 1  \n",
      "17   5.902191  Cluster 1  \n",
      "18   5.583239  Cluster 1  \n",
      "19   5.111007  Cluster 1  \n",
      "4    4.899647  Cluster 0  \n",
      "13   4.544394  Cluster 0  \n",
      "7    4.298918  Cluster 0  \n",
      "2    1.920090  Cluster 0  \n",
      "14   1.356622  Cluster 1  \n",
      "3    0.966244  Cluster 0  \n"
     ]
    }
   ],
   "source": [
    "#find which cluster has a higher value of which feature\n",
    "\n",
    "df = df_clusters2.copy()\n",
    "\n",
    "# numeric features only\n",
    "features = df.drop(columns=['Cluster'], errors='ignore').select_dtypes(include=[np.number])\n",
    "group1 = features[df['Cluster'] == 0]\n",
    "group2 = features[df['Cluster'] == 1]\n",
    "\n",
    "pvals, mean0, mean1 = [], [], []\n",
    "\n",
    "for col in features.columns:\n",
    "    g1 = group1[col].dropna()\n",
    "    g2 = group2[col].dropna()\n",
    "    stat, p = ttest_ind(g1, g2, equal_var=False)\n",
    "    pvals.append(p)\n",
    "    mean0.append(g1.mean())\n",
    "    mean1.append(g2.mean())\n",
    "\n",
    "results = pd.DataFrame({\n",
    "    'feature': features.columns,\n",
    "    'Cluster0_mean': mean0,\n",
    "    'Cluster1_mean': mean1,\n",
    "    'p_value': pvals\n",
    "})\n",
    "results['-log10(p)'] = -np.log10(results['p_value'])\n",
    "results['Higher_in'] = np.where(results['Cluster0_mean'] > results['Cluster1_mean'],\n",
    "                                'Cluster 0', 'Cluster 1')\n",
    "\n",
    "results = results.sort_values('p_value')\n",
    "print(results.head(10))\n"
   ]
  },
  {
   "cell_type": "code",
   "execution_count": null,
   "metadata": {},
   "outputs": [],
   "source": []
  },
  {
   "cell_type": "code",
   "execution_count": 40,
   "metadata": {},
   "outputs": [],
   "source": [
    "results.to_excel(\"~/Documents/BINF/competition/cluster_feature_differences.xlsx\", index=False)"
   ]
  }
 ],
 "metadata": {
  "colab": {
   "provenance": []
  },
  "kernelspec": {
   "display_name": "Python 3",
   "name": "python3"
  },
  "language_info": {
   "codemirror_mode": {
    "name": "ipython",
    "version": 3
   },
   "file_extension": ".py",
   "mimetype": "text/x-python",
   "name": "python",
   "nbconvert_exporter": "python",
   "pygments_lexer": "ipython3",
   "version": "3.12.4"
  }
 },
 "nbformat": 4,
 "nbformat_minor": 0
}
